{
 "cells": [
  {
   "cell_type": "markdown",
   "metadata": {},
   "source": [
    "# Red Wine Quality Prediction\n",
    "\n",
    "-----------------------------------------------------------------------------------------------------------------------------"
   ]
  },
  {
   "cell_type": "markdown",
   "metadata": {},
   "source": [
    "## Import required libraries"
   ]
  },
  {
   "cell_type": "code",
   "execution_count": 1,
   "metadata": {},
   "outputs": [],
   "source": [
    "import pandas as pd\n",
    "import numpy as np\n",
    "import matplotlib.pyplot as plt\n",
    "import seaborn as sns\n",
    "%matplotlib inline\n",
    "\n",
    "import warnings\n",
    "warnings.filterwarnings(\"ignore\")"
   ]
  },
  {
   "cell_type": "code",
   "execution_count": 2,
   "metadata": {},
   "outputs": [
    {
     "data": {
      "text/plain": [
       "'C:\\\\Users\\\\gohil\\\\Desktop\\\\GOAL\\\\FINGERTIPS\\\\4. MACHINE LEARNING\\\\PROJECTS\\\\Python Project 6 SVM Classification - Red_Wine_Quality_Analysis'"
      ]
     },
     "execution_count": 2,
     "metadata": {},
     "output_type": "execute_result"
    }
   ],
   "source": [
    "pwd"
   ]
  },
  {
   "cell_type": "markdown",
   "metadata": {},
   "source": [
    "## Load the data"
   ]
  },
  {
   "cell_type": "code",
   "execution_count": 3,
   "metadata": {},
   "outputs": [
    {
     "data": {
      "text/html": [
       "<div>\n",
       "<style scoped>\n",
       "    .dataframe tbody tr th:only-of-type {\n",
       "        vertical-align: middle;\n",
       "    }\n",
       "\n",
       "    .dataframe tbody tr th {\n",
       "        vertical-align: top;\n",
       "    }\n",
       "\n",
       "    .dataframe thead th {\n",
       "        text-align: right;\n",
       "    }\n",
       "</style>\n",
       "<table border=\"1\" class=\"dataframe\">\n",
       "  <thead>\n",
       "    <tr style=\"text-align: right;\">\n",
       "      <th></th>\n",
       "      <th>Quality_Category</th>\n",
       "      <th>volatileacidity</th>\n",
       "      <th>citricacid</th>\n",
       "      <th>residualsugar</th>\n",
       "      <th>chlorides</th>\n",
       "      <th>freesulfurdioxide</th>\n",
       "      <th>totalsulfurdioxide</th>\n",
       "      <th>density</th>\n",
       "      <th>sulphates</th>\n",
       "      <th>alcohol</th>\n",
       "    </tr>\n",
       "  </thead>\n",
       "  <tbody>\n",
       "    <tr>\n",
       "      <th>0</th>\n",
       "      <td>0</td>\n",
       "      <td>0.30</td>\n",
       "      <td>0.34</td>\n",
       "      <td>1.6</td>\n",
       "      <td>0.049</td>\n",
       "      <td>14</td>\n",
       "      <td>132</td>\n",
       "      <td>0.994</td>\n",
       "      <td>0.49</td>\n",
       "      <td>9.5</td>\n",
       "    </tr>\n",
       "    <tr>\n",
       "      <th>1</th>\n",
       "      <td>0</td>\n",
       "      <td>0.23</td>\n",
       "      <td>0.32</td>\n",
       "      <td>8.5</td>\n",
       "      <td>0.058</td>\n",
       "      <td>47</td>\n",
       "      <td>186</td>\n",
       "      <td>0.996</td>\n",
       "      <td>0.40</td>\n",
       "      <td>9.9</td>\n",
       "    </tr>\n",
       "    <tr>\n",
       "      <th>2</th>\n",
       "      <td>0</td>\n",
       "      <td>0.28</td>\n",
       "      <td>0.40</td>\n",
       "      <td>6.9</td>\n",
       "      <td>0.050</td>\n",
       "      <td>30</td>\n",
       "      <td>97</td>\n",
       "      <td>0.995</td>\n",
       "      <td>0.44</td>\n",
       "      <td>10.1</td>\n",
       "    </tr>\n",
       "    <tr>\n",
       "      <th>3</th>\n",
       "      <td>0</td>\n",
       "      <td>0.32</td>\n",
       "      <td>0.16</td>\n",
       "      <td>7.0</td>\n",
       "      <td>0.045</td>\n",
       "      <td>30</td>\n",
       "      <td>136</td>\n",
       "      <td>0.995</td>\n",
       "      <td>0.47</td>\n",
       "      <td>9.6</td>\n",
       "    </tr>\n",
       "    <tr>\n",
       "      <th>4</th>\n",
       "      <td>0</td>\n",
       "      <td>0.27</td>\n",
       "      <td>0.36</td>\n",
       "      <td>20.7</td>\n",
       "      <td>0.045</td>\n",
       "      <td>45</td>\n",
       "      <td>170</td>\n",
       "      <td>1.001</td>\n",
       "      <td>0.45</td>\n",
       "      <td>8.8</td>\n",
       "    </tr>\n",
       "    <tr>\n",
       "      <th>...</th>\n",
       "      <td>...</td>\n",
       "      <td>...</td>\n",
       "      <td>...</td>\n",
       "      <td>...</td>\n",
       "      <td>...</td>\n",
       "      <td>...</td>\n",
       "      <td>...</td>\n",
       "      <td>...</td>\n",
       "      <td>...</td>\n",
       "      <td>...</td>\n",
       "    </tr>\n",
       "    <tr>\n",
       "      <th>4889</th>\n",
       "      <td>0</td>\n",
       "      <td>0.21</td>\n",
       "      <td>0.29</td>\n",
       "      <td>1.6</td>\n",
       "      <td>0.039</td>\n",
       "      <td>24</td>\n",
       "      <td>92</td>\n",
       "      <td>0.991</td>\n",
       "      <td>0.50</td>\n",
       "      <td>11.2</td>\n",
       "    </tr>\n",
       "    <tr>\n",
       "      <th>4890</th>\n",
       "      <td>0</td>\n",
       "      <td>0.32</td>\n",
       "      <td>0.36</td>\n",
       "      <td>8.0</td>\n",
       "      <td>0.047</td>\n",
       "      <td>57</td>\n",
       "      <td>168</td>\n",
       "      <td>0.995</td>\n",
       "      <td>0.46</td>\n",
       "      <td>9.6</td>\n",
       "    </tr>\n",
       "    <tr>\n",
       "      <th>4891</th>\n",
       "      <td>0</td>\n",
       "      <td>0.24</td>\n",
       "      <td>0.19</td>\n",
       "      <td>1.2</td>\n",
       "      <td>0.041</td>\n",
       "      <td>30</td>\n",
       "      <td>111</td>\n",
       "      <td>0.993</td>\n",
       "      <td>0.46</td>\n",
       "      <td>9.4</td>\n",
       "    </tr>\n",
       "    <tr>\n",
       "      <th>4892</th>\n",
       "      <td>1</td>\n",
       "      <td>0.29</td>\n",
       "      <td>0.30</td>\n",
       "      <td>1.1</td>\n",
       "      <td>0.022</td>\n",
       "      <td>20</td>\n",
       "      <td>110</td>\n",
       "      <td>0.989</td>\n",
       "      <td>0.38</td>\n",
       "      <td>12.8</td>\n",
       "    </tr>\n",
       "    <tr>\n",
       "      <th>4893</th>\n",
       "      <td>0</td>\n",
       "      <td>0.21</td>\n",
       "      <td>0.38</td>\n",
       "      <td>0.8</td>\n",
       "      <td>0.020</td>\n",
       "      <td>22</td>\n",
       "      <td>98</td>\n",
       "      <td>0.989</td>\n",
       "      <td>0.32</td>\n",
       "      <td>11.8</td>\n",
       "    </tr>\n",
       "  </tbody>\n",
       "</table>\n",
       "<p>4894 rows × 10 columns</p>\n",
       "</div>"
      ],
      "text/plain": [
       "      Quality_Category  volatileacidity  citricacid  residualsugar  chlorides  \\\n",
       "0                    0             0.30        0.34            1.6      0.049   \n",
       "1                    0             0.23        0.32            8.5      0.058   \n",
       "2                    0             0.28        0.40            6.9      0.050   \n",
       "3                    0             0.32        0.16            7.0      0.045   \n",
       "4                    0             0.27        0.36           20.7      0.045   \n",
       "...                ...              ...         ...            ...        ...   \n",
       "4889                 0             0.21        0.29            1.6      0.039   \n",
       "4890                 0             0.32        0.36            8.0      0.047   \n",
       "4891                 0             0.24        0.19            1.2      0.041   \n",
       "4892                 1             0.29        0.30            1.1      0.022   \n",
       "4893                 0             0.21        0.38            0.8      0.020   \n",
       "\n",
       "      freesulfurdioxide  totalsulfurdioxide  density  sulphates  alcohol  \n",
       "0                    14                 132    0.994       0.49      9.5  \n",
       "1                    47                 186    0.996       0.40      9.9  \n",
       "2                    30                  97    0.995       0.44     10.1  \n",
       "3                    30                 136    0.995       0.47      9.6  \n",
       "4                    45                 170    1.001       0.45      8.8  \n",
       "...                 ...                 ...      ...        ...      ...  \n",
       "4889                 24                  92    0.991       0.50     11.2  \n",
       "4890                 57                 168    0.995       0.46      9.6  \n",
       "4891                 30                 111    0.993       0.46      9.4  \n",
       "4892                 20                 110    0.989       0.38     12.8  \n",
       "4893                 22                  98    0.989       0.32     11.8  \n",
       "\n",
       "[4894 rows x 10 columns]"
      ]
     },
     "execution_count": 3,
     "metadata": {},
     "output_type": "execute_result"
    }
   ],
   "source": [
    "df = pd.read_csv(\"Red_Wine_Quality_Analysis.csv\")\n",
    "df"
   ]
  },
  {
   "cell_type": "code",
   "execution_count": 4,
   "metadata": {},
   "outputs": [
    {
     "data": {
      "text/plain": [
       "(4894, 10)"
      ]
     },
     "execution_count": 4,
     "metadata": {},
     "output_type": "execute_result"
    }
   ],
   "source": [
    "df.shape"
   ]
  },
  {
   "cell_type": "code",
   "execution_count": 5,
   "metadata": {},
   "outputs": [
    {
     "data": {
      "text/html": [
       "<div>\n",
       "<style scoped>\n",
       "    .dataframe tbody tr th:only-of-type {\n",
       "        vertical-align: middle;\n",
       "    }\n",
       "\n",
       "    .dataframe tbody tr th {\n",
       "        vertical-align: top;\n",
       "    }\n",
       "\n",
       "    .dataframe thead th {\n",
       "        text-align: right;\n",
       "    }\n",
       "</style>\n",
       "<table border=\"1\" class=\"dataframe\">\n",
       "  <thead>\n",
       "    <tr style=\"text-align: right;\">\n",
       "      <th></th>\n",
       "      <th>Quality_Category</th>\n",
       "      <th>volatileacidity</th>\n",
       "      <th>citricacid</th>\n",
       "      <th>residualsugar</th>\n",
       "      <th>chlorides</th>\n",
       "      <th>freesulfurdioxide</th>\n",
       "      <th>totalsulfurdioxide</th>\n",
       "      <th>density</th>\n",
       "      <th>sulphates</th>\n",
       "      <th>alcohol</th>\n",
       "    </tr>\n",
       "  </thead>\n",
       "  <tbody>\n",
       "    <tr>\n",
       "      <th>count</th>\n",
       "      <td>4894.000000</td>\n",
       "      <td>4894.000000</td>\n",
       "      <td>4894.000000</td>\n",
       "      <td>4894.000000</td>\n",
       "      <td>4894.000000</td>\n",
       "      <td>4894.000000</td>\n",
       "      <td>4894.000000</td>\n",
       "      <td>4894.000000</td>\n",
       "      <td>4894.000000</td>\n",
       "      <td>4894.000000</td>\n",
       "    </tr>\n",
       "    <tr>\n",
       "      <th>mean</th>\n",
       "      <td>0.216387</td>\n",
       "      <td>0.278335</td>\n",
       "      <td>0.334146</td>\n",
       "      <td>6.391582</td>\n",
       "      <td>0.045773</td>\n",
       "      <td>35.311606</td>\n",
       "      <td>138.368615</td>\n",
       "      <td>0.994048</td>\n",
       "      <td>0.489904</td>\n",
       "      <td>10.514610</td>\n",
       "    </tr>\n",
       "    <tr>\n",
       "      <th>std</th>\n",
       "      <td>0.411823</td>\n",
       "      <td>0.100801</td>\n",
       "      <td>0.121047</td>\n",
       "      <td>5.071695</td>\n",
       "      <td>0.021855</td>\n",
       "      <td>17.019553</td>\n",
       "      <td>42.498278</td>\n",
       "      <td>0.003007</td>\n",
       "      <td>0.114153</td>\n",
       "      <td>1.230665</td>\n",
       "    </tr>\n",
       "    <tr>\n",
       "      <th>min</th>\n",
       "      <td>0.000000</td>\n",
       "      <td>0.080000</td>\n",
       "      <td>0.000000</td>\n",
       "      <td>0.600000</td>\n",
       "      <td>0.009000</td>\n",
       "      <td>2.000000</td>\n",
       "      <td>9.000000</td>\n",
       "      <td>0.987000</td>\n",
       "      <td>0.220000</td>\n",
       "      <td>8.000000</td>\n",
       "    </tr>\n",
       "    <tr>\n",
       "      <th>25%</th>\n",
       "      <td>0.000000</td>\n",
       "      <td>0.210000</td>\n",
       "      <td>0.270000</td>\n",
       "      <td>1.700000</td>\n",
       "      <td>0.036000</td>\n",
       "      <td>23.000000</td>\n",
       "      <td>108.000000</td>\n",
       "      <td>0.992000</td>\n",
       "      <td>0.410000</td>\n",
       "      <td>9.500000</td>\n",
       "    </tr>\n",
       "    <tr>\n",
       "      <th>50%</th>\n",
       "      <td>0.000000</td>\n",
       "      <td>0.260000</td>\n",
       "      <td>0.320000</td>\n",
       "      <td>5.200000</td>\n",
       "      <td>0.043000</td>\n",
       "      <td>34.000000</td>\n",
       "      <td>134.000000</td>\n",
       "      <td>0.994000</td>\n",
       "      <td>0.470000</td>\n",
       "      <td>10.400000</td>\n",
       "    </tr>\n",
       "    <tr>\n",
       "      <th>75%</th>\n",
       "      <td>0.000000</td>\n",
       "      <td>0.320000</td>\n",
       "      <td>0.390000</td>\n",
       "      <td>9.900000</td>\n",
       "      <td>0.050000</td>\n",
       "      <td>46.000000</td>\n",
       "      <td>167.000000</td>\n",
       "      <td>0.996000</td>\n",
       "      <td>0.550000</td>\n",
       "      <td>11.400000</td>\n",
       "    </tr>\n",
       "    <tr>\n",
       "      <th>max</th>\n",
       "      <td>1.000000</td>\n",
       "      <td>1.100000</td>\n",
       "      <td>1.660000</td>\n",
       "      <td>65.800000</td>\n",
       "      <td>0.346000</td>\n",
       "      <td>289.000000</td>\n",
       "      <td>440.000000</td>\n",
       "      <td>1.039000</td>\n",
       "      <td>1.080000</td>\n",
       "      <td>14.200000</td>\n",
       "    </tr>\n",
       "  </tbody>\n",
       "</table>\n",
       "</div>"
      ],
      "text/plain": [
       "       Quality_Category  volatileacidity   citricacid  residualsugar  \\\n",
       "count       4894.000000      4894.000000  4894.000000    4894.000000   \n",
       "mean           0.216387         0.278335     0.334146       6.391582   \n",
       "std            0.411823         0.100801     0.121047       5.071695   \n",
       "min            0.000000         0.080000     0.000000       0.600000   \n",
       "25%            0.000000         0.210000     0.270000       1.700000   \n",
       "50%            0.000000         0.260000     0.320000       5.200000   \n",
       "75%            0.000000         0.320000     0.390000       9.900000   \n",
       "max            1.000000         1.100000     1.660000      65.800000   \n",
       "\n",
       "         chlorides  freesulfurdioxide  totalsulfurdioxide      density  \\\n",
       "count  4894.000000        4894.000000         4894.000000  4894.000000   \n",
       "mean      0.045773          35.311606          138.368615     0.994048   \n",
       "std       0.021855          17.019553           42.498278     0.003007   \n",
       "min       0.009000           2.000000            9.000000     0.987000   \n",
       "25%       0.036000          23.000000          108.000000     0.992000   \n",
       "50%       0.043000          34.000000          134.000000     0.994000   \n",
       "75%       0.050000          46.000000          167.000000     0.996000   \n",
       "max       0.346000         289.000000          440.000000     1.039000   \n",
       "\n",
       "         sulphates      alcohol  \n",
       "count  4894.000000  4894.000000  \n",
       "mean      0.489904    10.514610  \n",
       "std       0.114153     1.230665  \n",
       "min       0.220000     8.000000  \n",
       "25%       0.410000     9.500000  \n",
       "50%       0.470000    10.400000  \n",
       "75%       0.550000    11.400000  \n",
       "max       1.080000    14.200000  "
      ]
     },
     "execution_count": 5,
     "metadata": {},
     "output_type": "execute_result"
    }
   ],
   "source": [
    "df.describe()"
   ]
  },
  {
   "cell_type": "code",
   "execution_count": 6,
   "metadata": {},
   "outputs": [
    {
     "name": "stdout",
     "output_type": "stream",
     "text": [
      "<class 'pandas.core.frame.DataFrame'>\n",
      "RangeIndex: 4894 entries, 0 to 4893\n",
      "Data columns (total 10 columns):\n",
      " #   Column              Non-Null Count  Dtype  \n",
      "---  ------              --------------  -----  \n",
      " 0   Quality_Category    4894 non-null   int64  \n",
      " 1   volatileacidity     4894 non-null   float64\n",
      " 2   citricacid          4894 non-null   float64\n",
      " 3   residualsugar       4894 non-null   float64\n",
      " 4   chlorides           4894 non-null   float64\n",
      " 5   freesulfurdioxide   4894 non-null   int64  \n",
      " 6   totalsulfurdioxide  4894 non-null   int64  \n",
      " 7   density             4894 non-null   float64\n",
      " 8   sulphates           4894 non-null   float64\n",
      " 9   alcohol             4894 non-null   float64\n",
      "dtypes: float64(7), int64(3)\n",
      "memory usage: 382.5 KB\n"
     ]
    }
   ],
   "source": [
    "df.info()"
   ]
  },
  {
   "cell_type": "code",
   "execution_count": 7,
   "metadata": {},
   "outputs": [
    {
     "data": {
      "text/plain": [
       "Quality_Category      0\n",
       "volatileacidity       0\n",
       "citricacid            0\n",
       "residualsugar         0\n",
       "chlorides             0\n",
       "freesulfurdioxide     0\n",
       "totalsulfurdioxide    0\n",
       "density               0\n",
       "sulphates             0\n",
       "alcohol               0\n",
       "dtype: int64"
      ]
     },
     "execution_count": 7,
     "metadata": {},
     "output_type": "execute_result"
    }
   ],
   "source": [
    "# Find the null values\n",
    "df.isnull().sum()"
   ]
  },
  {
   "cell_type": "code",
   "execution_count": 8,
   "metadata": {},
   "outputs": [
    {
     "data": {
      "text/plain": [
       "Index(['Quality_Category', 'volatileacidity', 'citricacid', 'residualsugar',\n",
       "       'chlorides', 'freesulfurdioxide', 'totalsulfurdioxide', 'density',\n",
       "       'sulphates', 'alcohol'],\n",
       "      dtype='object')"
      ]
     },
     "execution_count": 8,
     "metadata": {},
     "output_type": "execute_result"
    }
   ],
   "source": [
    "# Columns in the dataset\n",
    "df.columns"
   ]
  },
  {
   "cell_type": "code",
   "execution_count": 9,
   "metadata": {},
   "outputs": [
    {
     "data": {
      "text/plain": [
       "0    3835\n",
       "1    1059\n",
       "Name: Quality_Category, dtype: int64"
      ]
     },
     "execution_count": 9,
     "metadata": {},
     "output_type": "execute_result"
    }
   ],
   "source": [
    "df[\"Quality_Category\"].value_counts()"
   ]
  },
  {
   "cell_type": "code",
   "execution_count": 10,
   "metadata": {},
   "outputs": [],
   "source": [
    "df.rename({'volatileacidity': 'volatile_acidity',\n",
    "           'citricacid': 'citric_acid', \n",
    "           'residualsugar': 'residual_sugar', \n",
    "           'freesulfurdioxide': 'free_sulfur_dioxide', \n",
    "           'totalsulfurdioxide': 'total_sulfur_dioxide'}, inplace=True, axis=1)"
   ]
  },
  {
   "cell_type": "code",
   "execution_count": 11,
   "metadata": {},
   "outputs": [
    {
     "data": {
      "text/plain": [
       "<matplotlib.legend.Legend at 0x23a2659caf0>"
      ]
     },
     "execution_count": 11,
     "metadata": {},
     "output_type": "execute_result"
    },
    {
     "data": {
      "image/png": "[encoded data removed]",
      "text/plain": [
       "<Figure size 432x288 with 1 Axes>"
      ]
     },
     "metadata": {
      "needs_background": "light"
     },
     "output_type": "display_data"
    }
   ],
   "source": [
    "# The barchart of Quality_Category value counts\n",
    "df[\"Quality_Category\"].value_counts().plot(kind='bar');\n",
    "plt.xticks(rotation=0)\n",
    "plt.legend()"
   ]
  },
  {
   "cell_type": "code",
   "execution_count": 12,
   "metadata": {},
   "outputs": [
    {
     "data": {
      "text/plain": [
       "Text(0.5, 1.0, 'Volatile_Acidity vs. Citric Acid')"
      ]
     },
     "execution_count": 12,
     "metadata": {},
     "output_type": "execute_result"
    },
    {
     "data": {
      "image/png": "[encoded data removed]",
      "text/plain": [
       "<Figure size 432x288 with 1 Axes>"
      ]
     },
     "metadata": {
      "needs_background": "light"
     },
     "output_type": "display_data"
    }
   ],
   "source": [
    "# Display scatter plot between volatile_acidity & citric_acid\n",
    "plt.scatter(df.volatile_acidity, df.citric_acid);\n",
    "plt.xlabel(\"Volatile_Acidity\")\n",
    "plt.ylabel(\"Citric Acid\")\n",
    "plt.title(\"Volatile_Acidity vs. Citric Acid\")"
   ]
  },
  {
   "cell_type": "code",
   "execution_count": 13,
   "metadata": {},
   "outputs": [
    {
     "data": {
      "text/plain": [
       "Text(0.5, 1.0, 'Residual Sugar vs. Chlorides')"
      ]
     },
     "execution_count": 13,
     "metadata": {},
     "output_type": "execute_result"
    },
    {
     "data": {
      "image/png": "[encoded data removed]",
      "text/plain": [
       "<Figure size 432x288 with 1 Axes>"
      ]
     },
     "metadata": {
      "needs_background": "light"
     },
     "output_type": "display_data"
    }
   ],
   "source": [
    "# Display scatter plot between residual_suger & chlorides\n",
    "plt.scatter(df.residual_sugar, df.chlorides);\n",
    "plt.xlabel(\"Residual Sugar\")\n",
    "plt.ylabel(\"Chlorides\")\n",
    "plt.title(\"Residual Sugar vs. Chlorides\")"
   ]
  },
  {
   "cell_type": "code",
   "execution_count": 14,
   "metadata": {},
   "outputs": [
    {
     "data": {
      "text/plain": [
       "Text(0.5, 1.0, 'Sulphates vs. Alcohol')"
      ]
     },
     "execution_count": 14,
     "metadata": {},
     "output_type": "execute_result"
    },
    {
     "data": {
      "image/png": "[encoded data removed]",
      "text/plain": [
       "<Figure size 432x288 with 1 Axes>"
      ]
     },
     "metadata": {
      "needs_background": "light"
     },
     "output_type": "display_data"
    }
   ],
   "source": [
    "# Display scatter plot between sulphates & alcohol\n",
    "plt.scatter(df.sulphates, df.alcohol);\n",
    "plt.xlabel(\"Sulphates\")\n",
    "plt.ylabel(\"Alcohol\")\n",
    "plt.title(\"Sulphates vs. Alcohol\")"
   ]
  },
  {
   "cell_type": "code",
   "execution_count": 15,
   "metadata": {},
   "outputs": [
    {
     "data": {
      "image/png": "[encoded data removed]",
      "text/plain": [
       "<Figure size 1440x720 with 12 Axes>"
      ]
     },
     "metadata": {
      "needs_background": "light"
     },
     "output_type": "display_data"
    }
   ],
   "source": [
    "df.hist(figsize=(20,10));"
   ]
  },
  {
   "cell_type": "code",
   "execution_count": 16,
   "metadata": {},
   "outputs": [
    {
     "data": {
      "text/html": [
       "<div>\n",
       "<style scoped>\n",
       "    .dataframe tbody tr th:only-of-type {\n",
       "        vertical-align: middle;\n",
       "    }\n",
       "\n",
       "    .dataframe tbody tr th {\n",
       "        vertical-align: top;\n",
       "    }\n",
       "\n",
       "    .dataframe thead th {\n",
       "        text-align: right;\n",
       "    }\n",
       "</style>\n",
       "<table border=\"1\" class=\"dataframe\">\n",
       "  <thead>\n",
       "    <tr style=\"text-align: right;\">\n",
       "      <th></th>\n",
       "      <th>Quality_Category</th>\n",
       "      <th>volatile_acidity</th>\n",
       "      <th>citric_acid</th>\n",
       "      <th>residual_sugar</th>\n",
       "      <th>chlorides</th>\n",
       "      <th>free_sulfur_dioxide</th>\n",
       "      <th>total_sulfur_dioxide</th>\n",
       "      <th>density</th>\n",
       "      <th>sulphates</th>\n",
       "      <th>alcohol</th>\n",
       "    </tr>\n",
       "  </thead>\n",
       "  <tbody>\n",
       "    <tr>\n",
       "      <th>Quality_Category</th>\n",
       "      <td>1.000000</td>\n",
       "      <td>-0.068957</td>\n",
       "      <td>-0.035752</td>\n",
       "      <td>-0.116420</td>\n",
       "      <td>-0.182843</td>\n",
       "      <td>-0.023122</td>\n",
       "      <td>-0.161641</td>\n",
       "      <td>-0.280778</td>\n",
       "      <td>0.047611</td>\n",
       "      <td>0.384550</td>\n",
       "    </tr>\n",
       "    <tr>\n",
       "      <th>volatile_acidity</th>\n",
       "      <td>-0.068957</td>\n",
       "      <td>1.000000</td>\n",
       "      <td>-0.151219</td>\n",
       "      <td>0.064970</td>\n",
       "      <td>0.071244</td>\n",
       "      <td>-0.096971</td>\n",
       "      <td>0.090255</td>\n",
       "      <td>0.026502</td>\n",
       "      <td>-0.035215</td>\n",
       "      <td>0.066148</td>\n",
       "    </tr>\n",
       "    <tr>\n",
       "      <th>citric_acid</th>\n",
       "      <td>-0.035752</td>\n",
       "      <td>-0.151219</td>\n",
       "      <td>1.000000</td>\n",
       "      <td>0.094453</td>\n",
       "      <td>0.114579</td>\n",
       "      <td>0.094179</td>\n",
       "      <td>0.121674</td>\n",
       "      <td>0.153802</td>\n",
       "      <td>0.062614</td>\n",
       "      <td>-0.076202</td>\n",
       "    </tr>\n",
       "    <tr>\n",
       "      <th>residual_sugar</th>\n",
       "      <td>-0.116420</td>\n",
       "      <td>0.064970</td>\n",
       "      <td>0.094453</td>\n",
       "      <td>1.000000</td>\n",
       "      <td>0.088498</td>\n",
       "      <td>0.298840</td>\n",
       "      <td>0.401097</td>\n",
       "      <td>0.834798</td>\n",
       "      <td>-0.026678</td>\n",
       "      <td>-0.449915</td>\n",
       "    </tr>\n",
       "    <tr>\n",
       "      <th>chlorides</th>\n",
       "      <td>-0.182843</td>\n",
       "      <td>0.071244</td>\n",
       "      <td>0.114579</td>\n",
       "      <td>0.088498</td>\n",
       "      <td>1.000000</td>\n",
       "      <td>0.101402</td>\n",
       "      <td>0.198737</td>\n",
       "      <td>0.255033</td>\n",
       "      <td>0.016735</td>\n",
       "      <td>-0.360112</td>\n",
       "    </tr>\n",
       "    <tr>\n",
       "      <th>free_sulfur_dioxide</th>\n",
       "      <td>-0.023122</td>\n",
       "      <td>-0.096971</td>\n",
       "      <td>0.094179</td>\n",
       "      <td>0.298840</td>\n",
       "      <td>0.101402</td>\n",
       "      <td>1.000000</td>\n",
       "      <td>0.615707</td>\n",
       "      <td>0.294183</td>\n",
       "      <td>0.059374</td>\n",
       "      <td>-0.249988</td>\n",
       "    </tr>\n",
       "    <tr>\n",
       "      <th>total_sulfur_dioxide</th>\n",
       "      <td>-0.161641</td>\n",
       "      <td>0.090255</td>\n",
       "      <td>0.121674</td>\n",
       "      <td>0.401097</td>\n",
       "      <td>0.198737</td>\n",
       "      <td>0.615707</td>\n",
       "      <td>1.000000</td>\n",
       "      <td>0.530855</td>\n",
       "      <td>0.134523</td>\n",
       "      <td>-0.448597</td>\n",
       "    </tr>\n",
       "    <tr>\n",
       "      <th>density</th>\n",
       "      <td>-0.280778</td>\n",
       "      <td>0.026502</td>\n",
       "      <td>0.153802</td>\n",
       "      <td>0.834798</td>\n",
       "      <td>0.255033</td>\n",
       "      <td>0.294183</td>\n",
       "      <td>0.530855</td>\n",
       "      <td>1.000000</td>\n",
       "      <td>0.071343</td>\n",
       "      <td>-0.775374</td>\n",
       "    </tr>\n",
       "    <tr>\n",
       "      <th>sulphates</th>\n",
       "      <td>0.047611</td>\n",
       "      <td>-0.035215</td>\n",
       "      <td>0.062614</td>\n",
       "      <td>-0.026678</td>\n",
       "      <td>0.016735</td>\n",
       "      <td>0.059374</td>\n",
       "      <td>0.134523</td>\n",
       "      <td>0.071343</td>\n",
       "      <td>1.000000</td>\n",
       "      <td>-0.017295</td>\n",
       "    </tr>\n",
       "    <tr>\n",
       "      <th>alcohol</th>\n",
       "      <td>0.384550</td>\n",
       "      <td>0.066148</td>\n",
       "      <td>-0.076202</td>\n",
       "      <td>-0.449915</td>\n",
       "      <td>-0.360112</td>\n",
       "      <td>-0.249988</td>\n",
       "      <td>-0.448597</td>\n",
       "      <td>-0.775374</td>\n",
       "      <td>-0.017295</td>\n",
       "      <td>1.000000</td>\n",
       "    </tr>\n",
       "  </tbody>\n",
       "</table>\n",
       "</div>"
      ],
      "text/plain": [
       "                      Quality_Category  volatile_acidity  citric_acid  \\\n",
       "Quality_Category              1.000000         -0.068957    -0.035752   \n",
       "volatile_acidity             -0.068957          1.000000    -0.151219   \n",
       "citric_acid                  -0.035752         -0.151219     1.000000   \n",
       "residual_sugar               -0.116420          0.064970     0.094453   \n",
       "chlorides                    -0.182843          0.071244     0.114579   \n",
       "free_sulfur_dioxide          -0.023122         -0.096971     0.094179   \n",
       "total_sulfur_dioxide         -0.161641          0.090255     0.121674   \n",
       "density                      -0.280778          0.026502     0.153802   \n",
       "sulphates                     0.047611         -0.035215     0.062614   \n",
       "alcohol                       0.384550          0.066148    -0.076202   \n",
       "\n",
       "                      residual_sugar  chlorides  free_sulfur_dioxide  \\\n",
       "Quality_Category           -0.116420  -0.182843            -0.023122   \n",
       "volatile_acidity            0.064970   0.071244            -0.096971   \n",
       "citric_acid                 0.094453   0.114579             0.094179   \n",
       "residual_sugar              1.000000   0.088498             0.298840   \n",
       "chlorides                   0.088498   1.000000             0.101402   \n",
       "free_sulfur_dioxide         0.298840   0.101402             1.000000   \n",
       "total_sulfur_dioxide        0.401097   0.198737             0.615707   \n",
       "density                     0.834798   0.255033             0.294183   \n",
       "sulphates                  -0.026678   0.016735             0.059374   \n",
       "alcohol                    -0.449915  -0.360112            -0.249988   \n",
       "\n",
       "                      total_sulfur_dioxide   density  sulphates   alcohol  \n",
       "Quality_Category                 -0.161641 -0.280778   0.047611  0.384550  \n",
       "volatile_acidity                  0.090255  0.026502  -0.035215  0.066148  \n",
       "citric_acid                       0.121674  0.153802   0.062614 -0.076202  \n",
       "residual_sugar                    0.401097  0.834798  -0.026678 -0.449915  \n",
       "chlorides                         0.198737  0.255033   0.016735 -0.360112  \n",
       "free_sulfur_dioxide               0.615707  0.294183   0.059374 -0.249988  \n",
       "total_sulfur_dioxide              1.000000  0.530855   0.134523 -0.448597  \n",
       "density                           0.530855  1.000000   0.071343 -0.775374  \n",
       "sulphates                         0.134523  0.071343   1.000000 -0.017295  \n",
       "alcohol                          -0.448597 -0.775374  -0.017295  1.000000  "
      ]
     },
     "execution_count": 16,
     "metadata": {},
     "output_type": "execute_result"
    }
   ],
   "source": [
    "# Make a correlation matrix\n",
    "df.corr()"
   ]
  },
  {
   "cell_type": "code",
   "execution_count": 17,
   "metadata": {},
   "outputs": [
    {
     "data": {
      "image/png": "[encoded data removed]",
      "text/plain": [
       "<Figure size 1080x720 with 2 Axes>"
      ]
     },
     "metadata": {
      "needs_background": "light"
     },
     "output_type": "display_data"
    }
   ],
   "source": [
    "# Let's make our correlation matrix a little prettier\n",
    "\n",
    "corr_matrix = df.corr()\n",
    "fig, ax = plt.subplots(figsize=(15,10))\n",
    "ax = sns.heatmap(corr_matrix, annot=True, fmt=\".2f\")"
   ]
  },
  {
   "cell_type": "code",
   "execution_count": 18,
   "metadata": {},
   "outputs": [
    {
     "data": {
      "text/html": [
       "<div>\n",
       "<style scoped>\n",
       "    .dataframe tbody tr th:only-of-type {\n",
       "        vertical-align: middle;\n",
       "    }\n",
       "\n",
       "    .dataframe tbody tr th {\n",
       "        vertical-align: top;\n",
       "    }\n",
       "\n",
       "    .dataframe thead th {\n",
       "        text-align: right;\n",
       "    }\n",
       "</style>\n",
       "<table border=\"1\" class=\"dataframe\">\n",
       "  <thead>\n",
       "    <tr style=\"text-align: right;\">\n",
       "      <th></th>\n",
       "      <th>Quality_Category</th>\n",
       "      <th>volatile_acidity</th>\n",
       "      <th>citric_acid</th>\n",
       "      <th>residual_sugar</th>\n",
       "      <th>chlorides</th>\n",
       "      <th>free_sulfur_dioxide</th>\n",
       "      <th>total_sulfur_dioxide</th>\n",
       "      <th>density</th>\n",
       "      <th>sulphates</th>\n",
       "      <th>alcohol</th>\n",
       "    </tr>\n",
       "  </thead>\n",
       "  <tbody>\n",
       "    <tr>\n",
       "      <th>0</th>\n",
       "      <td>0</td>\n",
       "      <td>0.30</td>\n",
       "      <td>0.34</td>\n",
       "      <td>1.6</td>\n",
       "      <td>0.049</td>\n",
       "      <td>14</td>\n",
       "      <td>132</td>\n",
       "      <td>0.994</td>\n",
       "      <td>0.49</td>\n",
       "      <td>9.5</td>\n",
       "    </tr>\n",
       "    <tr>\n",
       "      <th>1</th>\n",
       "      <td>0</td>\n",
       "      <td>0.23</td>\n",
       "      <td>0.32</td>\n",
       "      <td>8.5</td>\n",
       "      <td>0.058</td>\n",
       "      <td>47</td>\n",
       "      <td>186</td>\n",
       "      <td>0.996</td>\n",
       "      <td>0.40</td>\n",
       "      <td>9.9</td>\n",
       "    </tr>\n",
       "    <tr>\n",
       "      <th>2</th>\n",
       "      <td>0</td>\n",
       "      <td>0.28</td>\n",
       "      <td>0.40</td>\n",
       "      <td>6.9</td>\n",
       "      <td>0.050</td>\n",
       "      <td>30</td>\n",
       "      <td>97</td>\n",
       "      <td>0.995</td>\n",
       "      <td>0.44</td>\n",
       "      <td>10.1</td>\n",
       "    </tr>\n",
       "    <tr>\n",
       "      <th>3</th>\n",
       "      <td>0</td>\n",
       "      <td>0.32</td>\n",
       "      <td>0.16</td>\n",
       "      <td>7.0</td>\n",
       "      <td>0.045</td>\n",
       "      <td>30</td>\n",
       "      <td>136</td>\n",
       "      <td>0.995</td>\n",
       "      <td>0.47</td>\n",
       "      <td>9.6</td>\n",
       "    </tr>\n",
       "    <tr>\n",
       "      <th>4</th>\n",
       "      <td>0</td>\n",
       "      <td>0.27</td>\n",
       "      <td>0.36</td>\n",
       "      <td>20.7</td>\n",
       "      <td>0.045</td>\n",
       "      <td>45</td>\n",
       "      <td>170</td>\n",
       "      <td>1.001</td>\n",
       "      <td>0.45</td>\n",
       "      <td>8.8</td>\n",
       "    </tr>\n",
       "  </tbody>\n",
       "</table>\n",
       "</div>"
      ],
      "text/plain": [
       "   Quality_Category  volatile_acidity  citric_acid  residual_sugar  chlorides  \\\n",
       "0                 0              0.30         0.34             1.6      0.049   \n",
       "1                 0              0.23         0.32             8.5      0.058   \n",
       "2                 0              0.28         0.40             6.9      0.050   \n",
       "3                 0              0.32         0.16             7.0      0.045   \n",
       "4                 0              0.27         0.36            20.7      0.045   \n",
       "\n",
       "   free_sulfur_dioxide  total_sulfur_dioxide  density  sulphates  alcohol  \n",
       "0                   14                   132    0.994       0.49      9.5  \n",
       "1                   47                   186    0.996       0.40      9.9  \n",
       "2                   30                    97    0.995       0.44     10.1  \n",
       "3                   30                   136    0.995       0.47      9.6  \n",
       "4                   45                   170    1.001       0.45      8.8  "
      ]
     },
     "execution_count": 18,
     "metadata": {},
     "output_type": "execute_result"
    }
   ],
   "source": [
    "df.head()"
   ]
  },
  {
   "cell_type": "code",
   "execution_count": 19,
   "metadata": {},
   "outputs": [],
   "source": [
    "from sklearn.preprocessing import StandardScaler\n",
    "\n",
    "standardscaler = StandardScaler()\n",
    "df[[\"residual_sugar\",\"free_sulfur_dioxide\",\"total_sulfur_dioxide\",\"alcohol\"]] = standardscaler.fit_transform(df[[\"residual_sugar\",\"free_sulfur_dioxide\",\"total_sulfur_dioxide\",\"alcohol\"]])"
   ]
  },
  {
   "cell_type": "markdown",
   "metadata": {},
   "source": [
    "### Create features and target data"
   ]
  },
  {
   "cell_type": "code",
   "execution_count": 20,
   "metadata": {},
   "outputs": [],
   "source": [
    "X = df.drop(\"Quality_Category\", axis=1)\n",
    "Y = df.Quality_Category"
   ]
  },
  {
   "cell_type": "code",
   "execution_count": 21,
   "metadata": {},
   "outputs": [
    {
     "data": {
      "text/html": [
       "<div>\n",
       "<style scoped>\n",
       "    .dataframe tbody tr th:only-of-type {\n",
       "        vertical-align: middle;\n",
       "    }\n",
       "\n",
       "    .dataframe tbody tr th {\n",
       "        vertical-align: top;\n",
       "    }\n",
       "\n",
       "    .dataframe thead th {\n",
       "        text-align: right;\n",
       "    }\n",
       "</style>\n",
       "<table border=\"1\" class=\"dataframe\">\n",
       "  <thead>\n",
       "    <tr style=\"text-align: right;\">\n",
       "      <th></th>\n",
       "      <th>volatile_acidity</th>\n",
       "      <th>citric_acid</th>\n",
       "      <th>residual_sugar</th>\n",
       "      <th>chlorides</th>\n",
       "      <th>free_sulfur_dioxide</th>\n",
       "      <th>total_sulfur_dioxide</th>\n",
       "      <th>density</th>\n",
       "      <th>sulphates</th>\n",
       "      <th>alcohol</th>\n",
       "    </tr>\n",
       "  </thead>\n",
       "  <tbody>\n",
       "    <tr>\n",
       "      <th>0</th>\n",
       "      <td>0.30</td>\n",
       "      <td>0.34</td>\n",
       "      <td>-0.944866</td>\n",
       "      <td>0.049</td>\n",
       "      <td>-1.252312</td>\n",
       "      <td>-0.149871</td>\n",
       "      <td>0.994</td>\n",
       "      <td>0.49</td>\n",
       "      <td>-0.824525</td>\n",
       "    </tr>\n",
       "    <tr>\n",
       "      <th>1</th>\n",
       "      <td>0.23</td>\n",
       "      <td>0.32</td>\n",
       "      <td>0.415765</td>\n",
       "      <td>0.058</td>\n",
       "      <td>0.686833</td>\n",
       "      <td>1.120898</td>\n",
       "      <td>0.996</td>\n",
       "      <td>0.40</td>\n",
       "      <td>-0.499464</td>\n",
       "    </tr>\n",
       "    <tr>\n",
       "      <th>2</th>\n",
       "      <td>0.28</td>\n",
       "      <td>0.40</td>\n",
       "      <td>0.100257</td>\n",
       "      <td>0.050</td>\n",
       "      <td>-0.312120</td>\n",
       "      <td>-0.973518</td>\n",
       "      <td>0.995</td>\n",
       "      <td>0.44</td>\n",
       "      <td>-0.336933</td>\n",
       "    </tr>\n",
       "    <tr>\n",
       "      <th>3</th>\n",
       "      <td>0.32</td>\n",
       "      <td>0.16</td>\n",
       "      <td>0.119976</td>\n",
       "      <td>0.045</td>\n",
       "      <td>-0.312120</td>\n",
       "      <td>-0.055740</td>\n",
       "      <td>0.995</td>\n",
       "      <td>0.47</td>\n",
       "      <td>-0.743259</td>\n",
       "    </tr>\n",
       "    <tr>\n",
       "      <th>4</th>\n",
       "      <td>0.27</td>\n",
       "      <td>0.36</td>\n",
       "      <td>2.821519</td>\n",
       "      <td>0.045</td>\n",
       "      <td>0.569309</td>\n",
       "      <td>0.744374</td>\n",
       "      <td>1.001</td>\n",
       "      <td>0.45</td>\n",
       "      <td>-1.393381</td>\n",
       "    </tr>\n",
       "  </tbody>\n",
       "</table>\n",
       "</div>"
      ],
      "text/plain": [
       "   volatile_acidity  citric_acid  residual_sugar  chlorides  \\\n",
       "0              0.30         0.34       -0.944866      0.049   \n",
       "1              0.23         0.32        0.415765      0.058   \n",
       "2              0.28         0.40        0.100257      0.050   \n",
       "3              0.32         0.16        0.119976      0.045   \n",
       "4              0.27         0.36        2.821519      0.045   \n",
       "\n",
       "   free_sulfur_dioxide  total_sulfur_dioxide  density  sulphates   alcohol  \n",
       "0            -1.252312             -0.149871    0.994       0.49 -0.824525  \n",
       "1             0.686833              1.120898    0.996       0.40 -0.499464  \n",
       "2            -0.312120             -0.973518    0.995       0.44 -0.336933  \n",
       "3            -0.312120             -0.055740    0.995       0.47 -0.743259  \n",
       "4             0.569309              0.744374    1.001       0.45 -1.393381  "
      ]
     },
     "execution_count": 21,
     "metadata": {},
     "output_type": "execute_result"
    }
   ],
   "source": [
    "X.head()"
   ]
  },
  {
   "cell_type": "code",
   "execution_count": 22,
   "metadata": {},
   "outputs": [
    {
     "data": {
      "text/plain": [
       "0    0\n",
       "1    0\n",
       "2    0\n",
       "3    0\n",
       "4    0\n",
       "Name: Quality_Category, dtype: int64"
      ]
     },
     "execution_count": 22,
     "metadata": {},
     "output_type": "execute_result"
    }
   ],
   "source": [
    "Y.head()"
   ]
  },
  {
   "cell_type": "markdown",
   "metadata": {},
   "source": [
    "### Split Training and Testing data sets"
   ]
  },
  {
   "cell_type": "code",
   "execution_count": 23,
   "metadata": {},
   "outputs": [],
   "source": [
    "from sklearn.model_selection import train_test_split\n",
    "\n",
    "np.random.seed(42)\n",
    "X_train, X_test, Y_train, Y_test = train_test_split(X, Y, test_size = 0.2)"
   ]
  },
  {
   "cell_type": "markdown",
   "metadata": {},
   "source": [
    "### Fit the SVM model with default parameters"
   ]
  },
  {
   "cell_type": "code",
   "execution_count": 24,
   "metadata": {},
   "outputs": [
    {
     "data": {
      "text/plain": [
       "SVC()"
      ]
     },
     "execution_count": 24,
     "metadata": {},
     "output_type": "execute_result"
    }
   ],
   "source": [
    "from sklearn.svm import SVC\n",
    "\n",
    "clf = SVC()\n",
    "clf.fit(X_train,Y_train)"
   ]
  },
  {
   "cell_type": "markdown",
   "metadata": {},
   "source": [
    "### Training ans testing accuracy"
   ]
  },
  {
   "cell_type": "code",
   "execution_count": 25,
   "metadata": {},
   "outputs": [
    {
     "name": "stdout",
     "output_type": "stream",
     "text": [
      "Training Accuracy: 0.8132822477650063\n",
      "Testing Accuracy: 0.8161389172625128\n"
     ]
    }
   ],
   "source": [
    "print(\"Training Accuracy:\", clf.score(X_train,Y_train))\n",
    "print(\"Testing Accuracy:\", clf.score(X_test, Y_test))"
   ]
  },
  {
   "cell_type": "code",
   "execution_count": 26,
   "metadata": {},
   "outputs": [],
   "source": [
    "#Let's predict out X_test data\n",
    "Y_pred_clf = clf.predict(X_test)"
   ]
  },
  {
   "cell_type": "code",
   "execution_count": 27,
   "metadata": {},
   "outputs": [
    {
     "data": {
      "text/html": [
       "<div>\n",
       "<style scoped>\n",
       "    .dataframe tbody tr th:only-of-type {\n",
       "        vertical-align: middle;\n",
       "    }\n",
       "\n",
       "    .dataframe tbody tr th {\n",
       "        vertical-align: top;\n",
       "    }\n",
       "\n",
       "    .dataframe thead th {\n",
       "        text-align: right;\n",
       "    }\n",
       "</style>\n",
       "<table border=\"1\" class=\"dataframe\">\n",
       "  <thead>\n",
       "    <tr style=\"text-align: right;\">\n",
       "      <th></th>\n",
       "      <th>Actual</th>\n",
       "      <th>Predicted</th>\n",
       "    </tr>\n",
       "  </thead>\n",
       "  <tbody>\n",
       "    <tr>\n",
       "      <th>0</th>\n",
       "      <td>1</td>\n",
       "      <td>0</td>\n",
       "    </tr>\n",
       "    <tr>\n",
       "      <th>1</th>\n",
       "      <td>0</td>\n",
       "      <td>0</td>\n",
       "    </tr>\n",
       "    <tr>\n",
       "      <th>2</th>\n",
       "      <td>1</td>\n",
       "      <td>0</td>\n",
       "    </tr>\n",
       "    <tr>\n",
       "      <th>3</th>\n",
       "      <td>0</td>\n",
       "      <td>0</td>\n",
       "    </tr>\n",
       "    <tr>\n",
       "      <th>4</th>\n",
       "      <td>0</td>\n",
       "      <td>0</td>\n",
       "    </tr>\n",
       "    <tr>\n",
       "      <th>5</th>\n",
       "      <td>0</td>\n",
       "      <td>0</td>\n",
       "    </tr>\n",
       "    <tr>\n",
       "      <th>6</th>\n",
       "      <td>0</td>\n",
       "      <td>0</td>\n",
       "    </tr>\n",
       "    <tr>\n",
       "      <th>7</th>\n",
       "      <td>1</td>\n",
       "      <td>0</td>\n",
       "    </tr>\n",
       "    <tr>\n",
       "      <th>8</th>\n",
       "      <td>0</td>\n",
       "      <td>0</td>\n",
       "    </tr>\n",
       "    <tr>\n",
       "      <th>9</th>\n",
       "      <td>1</td>\n",
       "      <td>0</td>\n",
       "    </tr>\n",
       "  </tbody>\n",
       "</table>\n",
       "</div>"
      ],
      "text/plain": [
       "   Actual  Predicted\n",
       "0       1          0\n",
       "1       0          0\n",
       "2       1          0\n",
       "3       0          0\n",
       "4       0          0\n",
       "5       0          0\n",
       "6       0          0\n",
       "7       1          0\n",
       "8       0          0\n",
       "9       1          0"
      ]
     },
     "execution_count": 27,
     "metadata": {},
     "output_type": "execute_result"
    }
   ],
   "source": [
    "# Comparison between Predicted values and Actual values\n",
    "comparison = pd.DataFrame(list(zip(Y_test, Y_pred_clf)),\n",
    "               columns =['Actual', 'Predicted'])\n",
    "comparison[:10]"
   ]
  },
  {
   "cell_type": "code",
   "execution_count": 28,
   "metadata": {},
   "outputs": [
    {
     "data": {
      "text/plain": [
       "0.8161389172625128"
      ]
     },
     "execution_count": 28,
     "metadata": {},
     "output_type": "execute_result"
    }
   ],
   "source": [
    "from sklearn.metrics import accuracy_score\n",
    "accuracy_score(Y_test, Y_pred_clf)"
   ]
  },
  {
   "cell_type": "code",
   "execution_count": 29,
   "metadata": {},
   "outputs": [],
   "source": [
    "from sklearn.metrics import accuracy_score, precision_score, recall_score, f1_score\n",
    "from sklearn.metrics import classification_report, confusion_matrix"
   ]
  },
  {
   "cell_type": "code",
   "execution_count": 30,
   "metadata": {},
   "outputs": [],
   "source": [
    "# A function to display precision score, recall score, accuracy, classification report, confusion matrix, F1 Score.\n",
    "\n",
    "def evaluate_preds(Y_test, Y_pred_clf):\n",
    "    \"\"\"\n",
    "    Performs evaluation comparison on y_true labels vs. y_preds labels on a classification.\n",
    "    \"\"\"\n",
    "    accuracy = accuracy_score(Y_test, Y_pred_clf)\n",
    "    precision = precision_score(Y_test, Y_pred_clf)\n",
    "    recall = recall_score(Y_test, Y_pred_clf)\n",
    "    f1 = f1_score(Y_test, Y_pred_clf)\n",
    "    conf_matrix = confusion_matrix(Y_test, Y_pred_clf)\n",
    "    class_report = classification_report(Y_test, Y_pred_clf)\n",
    "    metrics_dict = {\"accuracy:\": round(accuracy, 2),\n",
    "                    \"precision:\": round(precision, 2),\n",
    "                    \"recall:\": round(recall, 2),\n",
    "                    \"f1:\": round(f1, 2),}\n",
    "    print(f\"Accuracy: {accuracy * 100:.2f}%\")\n",
    "    print(f\"precision: {precision:.2f}\")\n",
    "    print(f\"Recall: {recall:.2f}\")\n",
    "    print(f\"F1 score: {f1:.2f}\")\n",
    "    print(\"\\n\")\n",
    "    print(f\"Confusion matrix:\\n{conf_matrix}\");\n",
    "    print(\"\\n\")\n",
    "    print(f\"Classification Report:\\n{class_report}\");\n",
    "    \n",
    "    return metrics_dict"
   ]
  },
  {
   "cell_type": "code",
   "execution_count": 31,
   "metadata": {},
   "outputs": [
    {
     "name": "stdout",
     "output_type": "stream",
     "text": [
      "Accuracy: 81.61%\n",
      "precision: 0.72\n",
      "Recall: 0.24\n",
      "F1 score: 0.36\n",
      "\n",
      "\n",
      "Confusion matrix:\n",
      "[[748  20]\n",
      " [160  51]]\n",
      "\n",
      "\n",
      "Classification Report:\n",
      "              precision    recall  f1-score   support\n",
      "\n",
      "           0       0.82      0.97      0.89       768\n",
      "           1       0.72      0.24      0.36       211\n",
      "\n",
      "    accuracy                           0.82       979\n",
      "   macro avg       0.77      0.61      0.63       979\n",
      "weighted avg       0.80      0.82      0.78       979\n",
      "\n"
     ]
    },
    {
     "data": {
      "text/plain": [
       "{'accuracy:': 0.82, 'precision:': 0.72, 'recall:': 0.24, 'f1:': 0.36}"
      ]
     },
     "execution_count": 31,
     "metadata": {},
     "output_type": "execute_result"
    }
   ],
   "source": [
    "evaluate_preds(Y_test, Y_pred_clf)"
   ]
  },
  {
   "cell_type": "markdown",
   "metadata": {},
   "source": [
    "### Fit the SVM model with different hyperparameter"
   ]
  },
  {
   "cell_type": "code",
   "execution_count": 32,
   "metadata": {},
   "outputs": [
    {
     "data": {
      "text/plain": [
       "SVC(C=100)"
      ]
     },
     "execution_count": 32,
     "metadata": {},
     "output_type": "execute_result"
    }
   ],
   "source": [
    "from sklearn.svm import SVC\n",
    "\n",
    "clf_1 = SVC(C=100)\n",
    "clf_1.fit(X_train,Y_train)"
   ]
  },
  {
   "cell_type": "code",
   "execution_count": 33,
   "metadata": {},
   "outputs": [
    {
     "name": "stdout",
     "output_type": "stream",
     "text": [
      "Training Accuracy: 0.8406130268199233\n",
      "Testing Accuracy: 0.81511746680286\n"
     ]
    }
   ],
   "source": [
    "print(\"Training Accuracy:\", clf_1.score(X_train,Y_train))\n",
    "print(\"Testing Accuracy:\", clf_1.score(X_test, Y_test))"
   ]
  },
  {
   "cell_type": "code",
   "execution_count": 34,
   "metadata": {},
   "outputs": [],
   "source": [
    "#Let's predict out X_test data\n",
    "Y_pred_clf_1 = clf.predict(X_test)"
   ]
  },
  {
   "cell_type": "code",
   "execution_count": 35,
   "metadata": {},
   "outputs": [
    {
     "data": {
      "text/plain": [
       "0.8161389172625128"
      ]
     },
     "execution_count": 35,
     "metadata": {},
     "output_type": "execute_result"
    }
   ],
   "source": [
    "from sklearn.metrics import accuracy_score\n",
    "accuracy_score(Y_test, Y_pred_clf_1)"
   ]
  },
  {
   "cell_type": "markdown",
   "metadata": {},
   "source": [
    "### Trying RandomForest"
   ]
  },
  {
   "cell_type": "code",
   "execution_count": 36,
   "metadata": {},
   "outputs": [
    {
     "data": {
      "text/plain": [
       "RandomForestClassifier(n_estimators=1000)"
      ]
     },
     "execution_count": 36,
     "metadata": {},
     "output_type": "execute_result"
    }
   ],
   "source": [
    "from sklearn.ensemble import RandomForestClassifier\n",
    "\n",
    "rf = RandomForestClassifier(n_estimators=1000)\n",
    "rf.fit(X_train, Y_train)"
   ]
  },
  {
   "cell_type": "code",
   "execution_count": 37,
   "metadata": {},
   "outputs": [
    {
     "name": "stdout",
     "output_type": "stream",
     "text": [
      "Training Accuracy: 1.0\n",
      "Testing Accuracy: 0.8631256384065373\n"
     ]
    }
   ],
   "source": [
    "print(\"Training Accuracy:\", rf.score(X_train,Y_train))\n",
    "print(\"Testing Accuracy:\", rf.score(X_test, Y_test))"
   ]
  },
  {
   "cell_type": "code",
   "execution_count": 38,
   "metadata": {},
   "outputs": [],
   "source": [
    "#Let's predict out X_test data\n",
    "Y_pred_rf = rf.predict(X_test)"
   ]
  },
  {
   "cell_type": "code",
   "execution_count": 39,
   "metadata": {},
   "outputs": [
    {
     "data": {
      "text/html": [
       "<div>\n",
       "<style scoped>\n",
       "    .dataframe tbody tr th:only-of-type {\n",
       "        vertical-align: middle;\n",
       "    }\n",
       "\n",
       "    .dataframe tbody tr th {\n",
       "        vertical-align: top;\n",
       "    }\n",
       "\n",
       "    .dataframe thead th {\n",
       "        text-align: right;\n",
       "    }\n",
       "</style>\n",
       "<table border=\"1\" class=\"dataframe\">\n",
       "  <thead>\n",
       "    <tr style=\"text-align: right;\">\n",
       "      <th></th>\n",
       "      <th>Actual</th>\n",
       "      <th>Predicted</th>\n",
       "    </tr>\n",
       "  </thead>\n",
       "  <tbody>\n",
       "    <tr>\n",
       "      <th>0</th>\n",
       "      <td>1</td>\n",
       "      <td>0</td>\n",
       "    </tr>\n",
       "    <tr>\n",
       "      <th>1</th>\n",
       "      <td>0</td>\n",
       "      <td>0</td>\n",
       "    </tr>\n",
       "    <tr>\n",
       "      <th>2</th>\n",
       "      <td>1</td>\n",
       "      <td>0</td>\n",
       "    </tr>\n",
       "    <tr>\n",
       "      <th>3</th>\n",
       "      <td>0</td>\n",
       "      <td>0</td>\n",
       "    </tr>\n",
       "    <tr>\n",
       "      <th>4</th>\n",
       "      <td>0</td>\n",
       "      <td>0</td>\n",
       "    </tr>\n",
       "    <tr>\n",
       "      <th>5</th>\n",
       "      <td>0</td>\n",
       "      <td>0</td>\n",
       "    </tr>\n",
       "    <tr>\n",
       "      <th>6</th>\n",
       "      <td>0</td>\n",
       "      <td>0</td>\n",
       "    </tr>\n",
       "    <tr>\n",
       "      <th>7</th>\n",
       "      <td>1</td>\n",
       "      <td>1</td>\n",
       "    </tr>\n",
       "    <tr>\n",
       "      <th>8</th>\n",
       "      <td>0</td>\n",
       "      <td>0</td>\n",
       "    </tr>\n",
       "    <tr>\n",
       "      <th>9</th>\n",
       "      <td>1</td>\n",
       "      <td>1</td>\n",
       "    </tr>\n",
       "  </tbody>\n",
       "</table>\n",
       "</div>"
      ],
      "text/plain": [
       "   Actual  Predicted\n",
       "0       1          0\n",
       "1       0          0\n",
       "2       1          0\n",
       "3       0          0\n",
       "4       0          0\n",
       "5       0          0\n",
       "6       0          0\n",
       "7       1          1\n",
       "8       0          0\n",
       "9       1          1"
      ]
     },
     "execution_count": 39,
     "metadata": {},
     "output_type": "execute_result"
    }
   ],
   "source": [
    "# Comparison between Predicted values and Actual values\n",
    "comparison = pd.DataFrame(list(zip(Y_test, Y_pred_rf)),\n",
    "               columns =['Actual', 'Predicted'])\n",
    "comparison[:10]"
   ]
  },
  {
   "cell_type": "code",
   "execution_count": 40,
   "metadata": {},
   "outputs": [
    {
     "data": {
      "text/plain": [
       "0.8631256384065373"
      ]
     },
     "execution_count": 40,
     "metadata": {},
     "output_type": "execute_result"
    }
   ],
   "source": [
    "from sklearn.metrics import accuracy_score\n",
    "accuracy_score(Y_test, Y_pred_rf)"
   ]
  },
  {
   "cell_type": "code",
   "execution_count": 41,
   "metadata": {},
   "outputs": [],
   "source": [
    "# A function to display precision score, recall score, accuracy, classification report, confusion matrix, F1 Score.\n",
    "\n",
    "def evaluate_preds(Y_test, Y_pred_rf):\n",
    "    \"\"\"\n",
    "    Performs evaluation comparison on y_true labels vs. y_preds labels on a classification.\n",
    "    \"\"\"\n",
    "    accuracy = accuracy_score(Y_test, Y_pred_rf)\n",
    "    precision = precision_score(Y_test, Y_pred_rf)\n",
    "    recall = recall_score(Y_test, Y_pred_rf)\n",
    "    f1 = f1_score(Y_test, Y_pred_rf)\n",
    "    conf_matrix = confusion_matrix(Y_test, Y_pred_rf)\n",
    "    class_report = classification_report(Y_test, Y_pred_rf)\n",
    "    metrics_dict = {\"accuracy:\": round(accuracy, 2),\n",
    "                    \"precision:\": round(precision, 2),\n",
    "                    \"recall:\": round(recall, 2),\n",
    "                    \"f1:\": round(f1, 2),}\n",
    "    print(f\"Accuracy: {accuracy * 100:.2f}%\")\n",
    "    print(f\"precision: {precision:.2f}\")\n",
    "    print(f\"Recall: {recall:.2f}\")\n",
    "    print(f\"F1 score: {f1:.2f}\")\n",
    "    print(\"\\n\")\n",
    "    print(f\"Confusion matrix:\\n{conf_matrix}\");\n",
    "    print(\"\\n\")\n",
    "    print(f\"Classification Report:\\n{class_report}\");\n",
    "    \n",
    "    return metrics_dict"
   ]
  },
  {
   "cell_type": "code",
   "execution_count": 42,
   "metadata": {},
   "outputs": [
    {
     "name": "stdout",
     "output_type": "stream",
     "text": [
      "Accuracy: 86.31%\n",
      "precision: 0.79\n",
      "Recall: 0.50\n",
      "F1 score: 0.61\n",
      "\n",
      "\n",
      "Confusion matrix:\n",
      "[[739  29]\n",
      " [105 106]]\n",
      "\n",
      "\n",
      "Classification Report:\n",
      "              precision    recall  f1-score   support\n",
      "\n",
      "           0       0.88      0.96      0.92       768\n",
      "           1       0.79      0.50      0.61       211\n",
      "\n",
      "    accuracy                           0.86       979\n",
      "   macro avg       0.83      0.73      0.76       979\n",
      "weighted avg       0.86      0.86      0.85       979\n",
      "\n"
     ]
    },
    {
     "data": {
      "text/plain": [
       "{'accuracy:': 0.86, 'precision:': 0.79, 'recall:': 0.5, 'f1:': 0.61}"
      ]
     },
     "execution_count": 42,
     "metadata": {},
     "output_type": "execute_result"
    }
   ],
   "source": [
    "evaluate_preds(Y_test, Y_pred_rf)"
   ]
  }
 ],
 "metadata": {
  "kernelspec": {
   "display_name": "Python 3",
   "language": "python",
   "name": "python3"
  },
  "language_info": {
   "codemirror_mode": {
    "name": "ipython",
    "version": 3
   },
   "file_extension": ".py",
   "mimetype": "text/x-python",
   "name": "python",
   "nbconvert_exporter": "python",
   "pygments_lexer": "ipython3",
   "version": "3.8.5"
  }
 },
 "nbformat": 4,
 "nbformat_minor": 4
}
